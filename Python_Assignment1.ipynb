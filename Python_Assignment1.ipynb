{
  "nbformat": 4,
  "nbformat_minor": 0,
  "metadata": {
    "colab": {
      "name": "Python_Assignment1.ipynb",
      "provenance": [],
      "collapsed_sections": []
    },
    "kernelspec": {
      "name": "python3",
      "display_name": "Python 3"
    }
  },
  "cells": [
    {
      "cell_type": "markdown",
      "metadata": {
        "id": "1hpPnZZaFWSi",
        "colab_type": "text"
      },
      "source": [
        "Q1. Write a program which will find all such numbers which are divisible by 7 but are not a multiple of 5, between 2000 and 3200(both included).The number obtained should be printed in a comma-separated sequence on a single line."
      ]
    },
    {
      "cell_type": "code",
      "metadata": {
        "id": "eNj11bztGC0-",
        "colab_type": "code",
        "colab": {
          "base_uri": "https://localhost:8080/",
          "height": 55
        },
        "outputId": "367c8136-993a-4c94-eb2e-272f98871f1e"
      },
      "source": [
        "output_list = []\n",
        "for i in range(2000,3201):\n",
        "  if(i%7==0 and i%5!=0):\n",
        "    output_list.append(i)\n",
        "print(str(output_list).strip(\"[]\"))"
      ],
      "execution_count": 3,
      "outputs": [
        {
          "output_type": "stream",
          "text": [
            "2002, 2009, 2016, 2023, 2037, 2044, 2051, 2058, 2072, 2079, 2086, 2093, 2107, 2114, 2121, 2128, 2142, 2149, 2156, 2163, 2177, 2184, 2191, 2198, 2212, 2219, 2226, 2233, 2247, 2254, 2261, 2268, 2282, 2289, 2296, 2303, 2317, 2324, 2331, 2338, 2352, 2359, 2366, 2373, 2387, 2394, 2401, 2408, 2422, 2429, 2436, 2443, 2457, 2464, 2471, 2478, 2492, 2499, 2506, 2513, 2527, 2534, 2541, 2548, 2562, 2569, 2576, 2583, 2597, 2604, 2611, 2618, 2632, 2639, 2646, 2653, 2667, 2674, 2681, 2688, 2702, 2709, 2716, 2723, 2737, 2744, 2751, 2758, 2772, 2779, 2786, 2793, 2807, 2814, 2821, 2828, 2842, 2849, 2856, 2863, 2877, 2884, 2891, 2898, 2912, 2919, 2926, 2933, 2947, 2954, 2961, 2968, 2982, 2989, 2996, 3003, 3017, 3024, 3031, 3038, 3052, 3059, 3066, 3073, 3087, 3094, 3101, 3108, 3122, 3129, 3136, 3143, 3157, 3164, 3171, 3178, 3192, 3199\n"
          ],
          "name": "stdout"
        }
      ]
    },
    {
      "cell_type": "markdown",
      "metadata": {
        "id": "YTbJ-aJDMULW",
        "colab_type": "text"
      },
      "source": [
        "Q2. Write a python program to accept the user's first and last name and then getting them printed in the reverse order with a space between first name and last name"
      ]
    },
    {
      "cell_type": "code",
      "metadata": {
        "id": "RdBwtoTFsuR1",
        "colab_type": "code",
        "colab": {
          "base_uri": "https://localhost:8080/",
          "height": 72
        },
        "outputId": "d201b0cc-72a8-4dc7-9d54-f47b5c45c982"
      },
      "source": [
        "First_name = input(\"Enter your First Name: \")\n",
        "Last_name = input(\"Enter your Last Name: \")\n",
        "print(Last_name+\" \"+First_name)"
      ],
      "execution_count": 3,
      "outputs": [
        {
          "output_type": "stream",
          "text": [
            "Enter your First Name: Prathima\n",
            "Enter your Last Name: Dileep\n",
            "Dileep Prathima\n"
          ],
          "name": "stdout"
        }
      ]
    },
    {
      "cell_type": "markdown",
      "metadata": {
        "id": "fbp-LIHjuBhx",
        "colab_type": "text"
      },
      "source": [
        "Q3. Write a python program to find the volume of a sphere with diameter 12 cm.\n",
        "Formula : V = 4/3 * Pi * R to the power of 3\n",
        "\n"
      ]
    },
    {
      "cell_type": "code",
      "metadata": {
        "id": "P3z6ae3QzU2s",
        "colab_type": "code",
        "colab": {
          "base_uri": "https://localhost:8080/",
          "height": 35
        },
        "outputId": "7070d110-1ed3-469b-af5d-2e5be8d602d4"
      },
      "source": [
        "diameter = 12\n",
        "r = diameter/2\n",
        "v = (4/3)*3.14*(r**3)\n",
        "print(\"Volume of Spehere is\",v)"
      ],
      "execution_count": 4,
      "outputs": [
        {
          "output_type": "stream",
          "text": [
            "Volume of Spehere is 904.3199999999999\n"
          ],
          "name": "stdout"
        }
      ]
    },
    {
      "cell_type": "code",
      "metadata": {
        "id": "x1IWKW5stf5x",
        "colab_type": "code",
        "colab": {}
      },
      "source": [
        ""
      ],
      "execution_count": 0,
      "outputs": []
    }
  ]
}