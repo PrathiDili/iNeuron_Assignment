{
  "nbformat": 4,
  "nbformat_minor": 0,
  "metadata": {
    "colab": {
      "name": "Exception_Handling_Assgnmnt.ipynb",
      "provenance": [],
      "collapsed_sections": []
    },
    "kernelspec": {
      "name": "python3",
      "display_name": "Python 3"
    }
  },
  "cells": [
    {
      "cell_type": "markdown",
      "metadata": {
        "id": "gSVd7bkTCvqj",
        "colab_type": "text"
      },
      "source": [
        "Q1 Solution"
      ]
    },
    {
      "cell_type": "code",
      "metadata": {
        "id": "8SVTy5jlCv_w",
        "colab_type": "code",
        "colab": {
          "base_uri": "https://localhost:8080/",
          "height": 35
        },
        "outputId": "758d47ad-fa8e-473b-a8a6-5ddcee5ecf85"
      },
      "source": [
        "def division(a,b) :\n",
        "  try :\n",
        "    output = a/b\n",
        "  except ZeroDivisionError :\n",
        "    print(\"Divisor is Zero, Enter valid Divisor\")\n",
        "  else :\n",
        "    print(\"Division Successful, Output is %f\" % output)\n",
        "\n",
        "division(5,0)"
      ],
      "execution_count": 18,
      "outputs": [
        {
          "output_type": "stream",
          "text": [
            "Divisor is Zero, Enter valid Divisor\n"
          ],
          "name": "stdout"
        }
      ]
    },
    {
      "cell_type": "markdown",
      "metadata": {
        "id": "LAk65wrSCwTS",
        "colab_type": "text"
      },
      "source": [
        "Q2 Solution"
      ]
    },
    {
      "cell_type": "code",
      "metadata": {
        "id": "ZwaWlE7-Cwm1",
        "colab_type": "code",
        "colab": {
          "base_uri": "https://localhost:8080/",
          "height": 163
        },
        "outputId": "6d515ec1-bcb6-45a0-ae5e-b791b659ad62"
      },
      "source": [
        "subject = [\"Americans\",\"Indians\"]\n",
        "verbs = [\"play\",\"watch\"]\n",
        "objects = [\"Baseball\",\"Cricket\"]\n",
        "for i in subject:\n",
        "  for j in verbs:\n",
        "    for k in objects:\n",
        "      print(i+\" \"+j+\" \"+k+\".\")\n"
      ],
      "execution_count": 20,
      "outputs": [
        {
          "output_type": "stream",
          "text": [
            "Americans play Baseball.\n",
            "Americans play Cricket.\n",
            "Americans watch Baseball.\n",
            "Americans watch Cricket.\n",
            "Indians play Baseball.\n",
            "Indians play Cricket.\n",
            "Indians watch Baseball.\n",
            "Indians watch Cricket.\n"
          ],
          "name": "stdout"
        }
      ]
    }
  ]
}