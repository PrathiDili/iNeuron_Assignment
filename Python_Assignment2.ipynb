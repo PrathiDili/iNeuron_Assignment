{
  "nbformat": 4,
  "nbformat_minor": 0,
  "metadata": {
    "colab": {
      "name": "Python_Assignment2.ipynb",
      "provenance": [],
      "collapsed_sections": []
    },
    "kernelspec": {
      "name": "python3",
      "display_name": "Python 3"
    }
  },
  "cells": [
    {
      "cell_type": "markdown",
      "metadata": {
        "id": "uWG8zuoZzp56",
        "colab_type": "text"
      },
      "source": [
        "Q1 Solution"
      ]
    },
    {
      "cell_type": "code",
      "metadata": {
        "id": "Q6jriwv-zrVM",
        "colab_type": "code",
        "colab": {
          "base_uri": "https://localhost:8080/",
          "height": 181
        },
        "outputId": "86cef814-34b0-431d-a5d5-a56c04f1e149"
      },
      "source": [
        "for i in range (1,6):\n",
        "  print(\"*\" * i) # print i times *\n",
        "for i in range (4,0,-1):\n",
        "  print(\"*\" * i)"
      ],
      "execution_count": 15,
      "outputs": [
        {
          "output_type": "stream",
          "text": [
            "*\n",
            "**\n",
            "***\n",
            "****\n",
            "*****\n",
            "****\n",
            "***\n",
            "**\n",
            "*\n"
          ],
          "name": "stdout"
        }
      ]
    },
    {
      "cell_type": "markdown",
      "metadata": {
        "id": "5-0slk_W3hCO",
        "colab_type": "text"
      },
      "source": [
        "Q2 Solution"
      ]
    },
    {
      "cell_type": "code",
      "metadata": {
        "id": "pW0QQu6Ez4gZ",
        "colab_type": "code",
        "colab": {
          "base_uri": "https://localhost:8080/",
          "height": 54
        },
        "outputId": "a7da31c0-2cd5-4774-d05e-4c01c680a2f8"
      },
      "source": [
        "in_str = input(\"Enter the word to be reversed: \")\n",
        "in_str[::-1]"
      ],
      "execution_count": 13,
      "outputs": [
        {
          "output_type": "stream",
          "text": [
            "Enter the word to be reversed: abcdefg\n"
          ],
          "name": "stdout"
        },
        {
          "output_type": "execute_result",
          "data": {
            "text/plain": [
              "'gfedcba'"
            ]
          },
          "metadata": {
            "tags": []
          },
          "execution_count": 13
        }
      ]
    },
    {
      "cell_type": "code",
      "metadata": {
        "id": "qGg2A-VH37jS",
        "colab_type": "code",
        "colab": {}
      },
      "source": [
        ""
      ],
      "execution_count": 0,
      "outputs": []
    }
  ]
}