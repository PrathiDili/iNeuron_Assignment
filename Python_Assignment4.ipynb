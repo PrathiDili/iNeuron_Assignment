{
  "nbformat": 4,
  "nbformat_minor": 0,
  "metadata": {
    "colab": {
      "name": "Python_Assignment4.ipynb",
      "provenance": [],
      "collapsed_sections": []
    },
    "kernelspec": {
      "name": "python3",
      "display_name": "Python 3"
    }
  },
  "cells": [
    {
      "cell_type": "markdown",
      "metadata": {
        "id": "Ca7iO6IcjZJ_",
        "colab_type": "text"
      },
      "source": [
        "Q1.1 Solution"
      ]
    },
    {
      "cell_type": "code",
      "metadata": {
        "id": "TXQM0jnulFBj",
        "colab_type": "code",
        "colab": {
          "base_uri": "https://localhost:8080/",
          "height": 84
        },
        "outputId": "c8ab4d77-c8be-4863-b502-7056af1574c9"
      },
      "source": [
        "# definition parent class with function to accept the lenghts of sides of triangle\n",
        "class triangle:\n",
        "  def __init__(self,a,b,c) :\n",
        "    self.a = a\n",
        "    self.b = b\n",
        "    self.c = c\n",
        "\n",
        "  @classmethod\n",
        "  def get_input(self):\n",
        "    a = float(input(\"Enter the length of side a: \"))\n",
        "    b = float(input(\"Enter the length of side b: \"))\n",
        "    c = float(input(\"Enter the length of side c: \"))\n",
        "    return self(a,b,c)\n",
        "\n",
        "# definitin of sub-class with function to calculate area of triangle.\n",
        "class area(triangle) :\n",
        "  def __init__(self, *args):\n",
        "    super(triangle, self).__init__(*args)\n",
        "\n",
        "  def area_of_triangle(self) :\n",
        "    s = (self.a+self.b+self.c)/2\n",
        "    area = (s*(s-self.a)*(s-self.b)*(s-self.c))**0.5\n",
        "    return area\n",
        "\n",
        "# objects of class and sub-class to find area of triangle\n",
        "t = triangle.get_input()\n",
        "area_of_t = area.area_of_triangle(t)\n",
        "print(\"Area of Triangle is : %f\" % area_of_t)"
      ],
      "execution_count": 27,
      "outputs": [
        {
          "output_type": "stream",
          "text": [
            "Enter the length of side a: 2.2\n",
            "Enter the length of side b: 3.3\n",
            "Enter the length of side c: 4\n",
            "Area of Triangle is : 3.629372\n"
          ],
          "name": "stdout"
        }
      ]
    },
    {
      "cell_type": "markdown",
      "metadata": {
        "id": "TXPfvhT9lUUO",
        "colab_type": "text"
      },
      "source": [
        "Q1.2 Solution"
      ]
    },
    {
      "cell_type": "code",
      "metadata": {
        "id": "QwUOcDkRlWhx",
        "colab_type": "code",
        "colab": {
          "base_uri": "https://localhost:8080/",
          "height": 34
        },
        "outputId": "4bdb782c-1473-49cc-d32f-e00c5e6e0439"
      },
      "source": [
        "# Function to filter for words of length > n\n",
        "def filter_long_words(input_lst,n) :\n",
        "  output_lst = []\n",
        "  for x in input_lst :\n",
        "    if len(x) > n :\n",
        "      output_lst.append(x)\n",
        "  return output_lst\n",
        "\n",
        "input_lst = ['alpha','beta','gama','it','a','anything','everyday']\n",
        "filter_long_words(input_lst,4)\n"
      ],
      "execution_count": 9,
      "outputs": [
        {
          "output_type": "execute_result",
          "data": {
            "text/plain": [
              "['alpha', 'anything', 'everyday']"
            ]
          },
          "metadata": {
            "tags": []
          },
          "execution_count": 9
        }
      ]
    },
    {
      "cell_type": "markdown",
      "metadata": {
        "id": "ZwUTFsiilXFl",
        "colab_type": "text"
      },
      "source": [
        "Q2.1 Solution"
      ]
    },
    {
      "cell_type": "code",
      "metadata": {
        "id": "JiVVhdpClYci",
        "colab_type": "code",
        "colab": {
          "base_uri": "https://localhost:8080/",
          "height": 34
        },
        "outputId": "578ab02a-d28b-450b-e6ec-7d9a194be35d"
      },
      "source": [
        "input_lst = ['list','of','words','to','map']\n",
        "output_lst = list(map(lambda x : len(x),input_lst))\n",
        "output_lst"
      ],
      "execution_count": 10,
      "outputs": [
        {
          "output_type": "execute_result",
          "data": {
            "text/plain": [
              "[4, 2, 5, 2, 3]"
            ]
          },
          "metadata": {
            "tags": []
          },
          "execution_count": 10
        }
      ]
    },
    {
      "cell_type": "markdown",
      "metadata": {
        "id": "kcEhoN_tk-ND",
        "colab_type": "text"
      },
      "source": [
        "Q2.2 Solution"
      ]
    },
    {
      "cell_type": "code",
      "metadata": {
        "id": "enFom8kqjdhx",
        "colab_type": "code",
        "colab": {
          "base_uri": "https://localhost:8080/",
          "height": 50
        },
        "outputId": "f5df1600-c9d2-471d-a66c-25654b74b2e2"
      },
      "source": [
        "# Function to check if a character is vowel or not\n",
        "def is_vowel(a):\n",
        "  vowels = ['a','e','i','o','u']\n",
        "  if a in vowels:\n",
        "    return True\n",
        "  else :\n",
        "    return False\n",
        "\n",
        "# To test function is_vowel \n",
        "print(is_vowel('e'))\n",
        "is_vowel('d')\n"
      ],
      "execution_count": 3,
      "outputs": [
        {
          "output_type": "stream",
          "text": [
            "True\n"
          ],
          "name": "stdout"
        },
        {
          "output_type": "execute_result",
          "data": {
            "text/plain": [
              "False"
            ]
          },
          "metadata": {
            "tags": []
          },
          "execution_count": 3
        }
      ]
    }
  ]
}