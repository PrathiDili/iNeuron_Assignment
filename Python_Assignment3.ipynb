{
  "nbformat": 4,
  "nbformat_minor": 0,
  "metadata": {
    "colab": {
      "name": "Python_Assignment3.ipynb",
      "provenance": [],
      "collapsed_sections": []
    },
    "kernelspec": {
      "name": "python3",
      "display_name": "Python 3"
    }
  },
  "cells": [
    {
      "cell_type": "markdown",
      "metadata": {
        "id": "AKoA3Ku6uNg9",
        "colab_type": "text"
      },
      "source": [
        "Q1.1 Solution:"
      ]
    },
    {
      "cell_type": "code",
      "metadata": {
        "id": "cI152cz_uSAL",
        "colab_type": "code",
        "colab": {
          "base_uri": "https://localhost:8080/",
          "height": 34
        },
        "outputId": "2577303c-0bf9-460f-d5c7-dd2ac8c01efa"
      },
      "source": [
        "# define reduce function\n",
        "def myreduce(functn, iterable_seq) :\n",
        "  result = iterable_seq[0] \n",
        "  for x in range(1,len(iterable_seq)) :\n",
        "    result = functn(result,iterable_seq[x])\n",
        "  return result\n",
        "\n",
        "# test myreduce() function, ex: to find the maximum value in a given sequence.\n",
        "myreduce(lambda a,b:max(a,b),[12,35,3,65,2])"
      ],
      "execution_count": 13,
      "outputs": [
        {
          "output_type": "execute_result",
          "data": {
            "text/plain": [
              "65"
            ]
          },
          "metadata": {
            "tags": []
          },
          "execution_count": 13
        }
      ]
    },
    {
      "cell_type": "markdown",
      "metadata": {
        "id": "lcIkn4vg0dm-",
        "colab_type": "text"
      },
      "source": [
        "Q1.2 Solution"
      ]
    },
    {
      "cell_type": "code",
      "metadata": {
        "id": "di0j2Hk60fuK",
        "colab_type": "code",
        "colab": {
          "base_uri": "https://localhost:8080/",
          "height": 34
        },
        "outputId": "29dd387f-9784-4390-9dbb-8652617c80a5"
      },
      "source": [
        "# define filter function\n",
        "def myfilter(functn, iterable_seq) :\n",
        "  result = [] \n",
        "  for x in iterable_seq :\n",
        "    if functn(x) :\n",
        "      result.append(x)\n",
        "  return result\n",
        "\n",
        "# test myfilter() function. ex: to filter even numbers from given sequence of numbers.\n",
        "myfilter(lambda a:a%2==0,[12,35,3,65,2])"
      ],
      "execution_count": 15,
      "outputs": [
        {
          "output_type": "execute_result",
          "data": {
            "text/plain": [
              "[12, 2]"
            ]
          },
          "metadata": {
            "tags": []
          },
          "execution_count": 15
        }
      ]
    },
    {
      "cell_type": "markdown",
      "metadata": {
        "id": "o-E8Czce37St",
        "colab_type": "text"
      },
      "source": [
        "Q2 Solution"
      ]
    },
    {
      "cell_type": "code",
      "metadata": {
        "id": "VHG1ss-j39a8",
        "colab_type": "code",
        "colab": {
          "base_uri": "https://localhost:8080/",
          "height": 34
        },
        "outputId": "dd6305b2-d08b-49eb-eb07-2dd45b4f78c5"
      },
      "source": [
        "lst1 = [a*b for a in [\"x\",\"y\",\"z\"] for b in range(1,5) ]\n",
        "lst1"
      ],
      "execution_count": 20,
      "outputs": [
        {
          "output_type": "execute_result",
          "data": {
            "text/plain": [
              "['x', 'xx', 'xxx', 'xxxx', 'y', 'yy', 'yyy', 'yyyy', 'z', 'zz', 'zzz', 'zzzz']"
            ]
          },
          "metadata": {
            "tags": []
          },
          "execution_count": 20
        }
      ]
    },
    {
      "cell_type": "code",
      "metadata": {
        "id": "bJGAVuTN5X31",
        "colab_type": "code",
        "colab": {
          "base_uri": "https://localhost:8080/",
          "height": 34
        },
        "outputId": "8d385089-e097-40aa-97c8-ef1c96266181"
      },
      "source": [
        "lst2 = [a*b for a in range(1,5) for b in [\"x\",\"y\",\"z\"] ]\n",
        "lst2"
      ],
      "execution_count": 25,
      "outputs": [
        {
          "output_type": "execute_result",
          "data": {
            "text/plain": [
              "['x', 'y', 'z', 'xx', 'yy', 'zz', 'xxx', 'yyy', 'zzz', 'xxxx', 'yyyy', 'zzzz']"
            ]
          },
          "metadata": {
            "tags": []
          },
          "execution_count": 25
        }
      ]
    },
    {
      "cell_type": "code",
      "metadata": {
        "id": "aimWtAjsDP05",
        "colab_type": "code",
        "colab": {
          "base_uri": "https://localhost:8080/",
          "height": 34
        },
        "outputId": "f6edc16d-0e59-47ad-eddf-b7a0678f810a"
      },
      "source": [
        "lst3_temp1 = [[a+b] for a in range(2,5) for b in range(3)] \n",
        "lst3_temp2 = [[a+b for a in range(2,6)] for b in range(4)]\n",
        "lst3 = lst3_temp1 + lst3_temp2\n",
        "print(lst3,end='')"
      ],
      "execution_count": 29,
      "outputs": [
        {
          "output_type": "stream",
          "text": [
            "[[2], [3], [4], [3], [4], [5], [4], [5], [6], [2, 3, 4, 5], [3, 4, 5, 6], [4, 5, 6, 7], [5, 6, 7, 8]]"
          ],
          "name": "stdout"
        }
      ]
    },
    {
      "cell_type": "code",
      "metadata": {
        "id": "L_Ic5BA1DlT0",
        "colab_type": "code",
        "colab": {
          "base_uri": "https://localhost:8080/",
          "height": 34
        },
        "outputId": "c0c89533-4795-499e-a370-2cd0a9810cbf"
      },
      "source": [
        "lst4 = [(b,a) for a in range(1,4) for b in range(1,4)]\n",
        "lst4"
      ],
      "execution_count": 32,
      "outputs": [
        {
          "output_type": "execute_result",
          "data": {
            "text/plain": [
              "[(1, 1), (2, 1), (3, 1), (1, 2), (2, 2), (3, 2), (1, 3), (2, 3), (3, 3)]"
            ]
          },
          "metadata": {
            "tags": []
          },
          "execution_count": 32
        }
      ]
    }
  ]
}